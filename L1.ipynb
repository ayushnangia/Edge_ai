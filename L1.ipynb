{
 "cells": [
  {
   "cell_type": "markdown",
   "id": "c9748363",
   "metadata": {},
   "source": [
    "## Image Processing with cv2 and torchvision\n",
    "\n",
    "In this notebook, we will explore basic image processing techniques using the `cv2` and `torchvision` libraries."
   ]
  },
  {
   "cell_type": "code",
   "execution_count": 1,
   "metadata": {},
   "outputs": [],
   "source": [
    "# Importing necessary libraries\n",
    "\n",
    "import cv2\n",
    "from PIL import Image\n",
    "import torchvision.transforms as transforms"
   ]
  },
  {
   "cell_type": "code",
   "execution_count": 2,
   "metadata": {},
   "outputs": [],
   "source": [
    "# Defining a transformation pipeline to convert an image to a tensor\n",
    "\n",
    "transform=transforms.Compose([transforms.ToTensor()])\n"
   ]
  },
  {
   "cell_type": "code",
   "execution_count": 3,
   "metadata": {},
   "outputs": [
    {
     "name": "stdout",
     "output_type": "stream",
     "text": [
      "(512, 512, 3)\n"
     ]
    }
   ],
   "source": [
    "# Reading an image and printing its shape\n",
    "\n",
    "imag = cv2.imread('lena15.jpg')\n",
    "print(imag.shape)\n"
   ]
  },
  {
   "cell_type": "code",
   "execution_count": 4,
   "metadata": {},
   "outputs": [
    {
     "name": "stdout",
     "output_type": "stream",
     "text": [
      "(512, 512)\n"
     ]
    }
   ],
   "source": [
    "# Reading the image in grayscale and printing its shape\n",
    "\n",
    "igrey = cv2.imread('lena15.jpg',flags=0)\n",
    "print(igrey.shape)"
   ]
  },
  {
   "cell_type": "code",
   "execution_count": 5,
   "metadata": {},
   "outputs": [
    {
     "name": "stdout",
     "output_type": "stream",
     "text": [
      "torch.Size([3, 512, 512])\n"
     ]
    }
   ],
   "source": [
    "# Transforming the image into a tensor using the previously defined transformation and printing its shape\n",
    "\n",
    "j=Image.open('lena15.jpg')\n",
    "jarray=transform(j)\n",
    "print(jarray.shape)"
   ]
  },
  {
   "cell_type": "code",
   "execution_count": 6,
   "metadata": {},
   "outputs": [
    {
     "name": "stdout",
     "output_type": "stream",
     "text": [
      "Select a ROI and then press SPACE or ENTER button!\n",
      "Cancel the selection process by pressing c button!\n"
     ]
    }
   ],
   "source": [
    "# Selecting a region of interest (ROI) from the image\n",
    "\n",
    "r = cv2.selectROI(windowName=\"Hi this is a test\", img=imag)\n",
    "# x, y , width, height"
   ]
  },
  {
   "cell_type": "code",
   "execution_count": 7,
   "metadata": {},
   "outputs": [],
   "source": [
    "# Modifying the selected ROI to have red color\n",
    "\n",
    "imag[r[1]:r[1]+r[3],r[0]:r[0]+r[2],0]=0\n",
    "imag[r[1]:r[1]+r[3],r[0]:r[0]+r[2],1]=0\n",
    "imag[r[1]:r[1]+r[3],r[0]:r[0]+r[2],2]=255"
   ]
  },
  {
   "cell_type": "code",
   "execution_count": 8,
   "metadata": {},
   "outputs": [
    {
     "data": {
      "text/plain": [
       "13"
      ]
     },
     "execution_count": 8,
     "metadata": {},
     "output_type": "execute_result"
    }
   ],
   "source": [
    "# Displaying the modified image\n",
    "\n",
    "cv2.imshow(\"Modified image\", imag)\n",
    "cv2.waitKey(0)\n"
   ]
  },
  {
   "cell_type": "code",
   "execution_count": 12,
   "metadata": {},
   "outputs": [],
   "source": [
    "# Reading the original image again, resizing it to fit the selected ROI dimensions, and replacing the selected ROI with the resized image\n",
    "# Displaying the second modified image\n",
    "\n",
    "\n",
    "k=cv2.imread(\"lena15.jpg\")\n",
    "#Resizing the image...\n",
    "k1=cv2.resize(k,(r[2],r[3]))\n",
    "imag[r[1]:r[1]+r[3],r[0]:r[0]+r[2]]=k1\n",
    "\n",
    "cv2.imshow(\"Modified image2\", imag)\n",
    "cv2.waitKey(0)"
   ]
  },
  {
   "cell_type": "code",
   "execution_count": null,
   "metadata": {},
   "outputs": [],
   "source": []
  }
 ],
 "metadata": {
  "kernelspec": {
   "display_name": "MY_Lab",
   "language": "python",
   "name": "python3"
  },
  "language_info": {
   "codemirror_mode": {
    "name": "ipython",
    "version": 3
   },
   "file_extension": ".py",
   "mimetype": "text/x-python",
   "name": "python",
   "nbconvert_exporter": "python",
   "pygments_lexer": "ipython3",
   "version": "3.8.17"
  }
 },
 "nbformat": 4,
 "nbformat_minor": 2
}
